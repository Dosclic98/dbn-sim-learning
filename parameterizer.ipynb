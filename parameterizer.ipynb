{
 "cells": [
  {
   "cell_type": "code",
   "execution_count": 6,
   "id": "728faee9",
   "metadata": {},
   "outputs": [],
   "source": [
    "import pysmile\n",
    "import pysmile_license\n",
    "from pathlib import Path\n",
    "from pysmile.learning import DataSet, EM\n",
    "import itertools\n",
    "import numpy as np"
   ]
  },
  {
   "cell_type": "code",
   "execution_count": 7,
   "id": "2387270a",
   "metadata": {},
   "outputs": [],
   "source": [
    "fileName = \"DBNfromAG.xdsl\"\n",
    "outFileName = \"DBNfromAG_learned.xdsl\"\n",
    "tracesFileName = \"dbnLogs100.csv\"\n",
    "numSlices = 300\n",
    "dt = 1 # time step in seconds\n",
    "\n",
    "outcomes = [\"N\", \"C\"]\n",
    "priorNodes = [\"workStation_compromise\"]\n",
    "# <node_id>: mean TTC\n",
    "\n",
    "analyticAccuracy = 0.95\n",
    "analyticNodes = []\n",
    "analyticsDict = {}\n",
    "for node in analyticNodes:\n",
    "    analyticsDict[node] = analyticAccuracy\n",
    "\n",
    "orNodes = [\"historianServer_NodeOR1\"]\n",
    "andNodes = [\"historianServer_remoteShellAND\", \"MMSclient1_AND52\", \"MMSserver1_NodeAND23\"]"
   ]
  },
  {
   "cell_type": "code",
   "execution_count": 8,
   "id": "b1521f3f",
   "metadata": {},
   "outputs": [],
   "source": [
    "net = pysmile.Network()\n",
    "net.read_file(fileName)\n",
    "net.set_slice_count(numSlices)"
   ]
  },
  {
   "cell_type": "code",
   "execution_count": 9,
   "id": "f29361a6",
   "metadata": {},
   "outputs": [],
   "source": [
    "def flattenExtended(cpt: list):\n",
    "    \"\"\"Flatten a list of lists into a single list.\"\"\"\n",
    "    listCpt = []\n",
    "    for subitem in cpt:\n",
    "        if isinstance(subitem, list):\n",
    "            for item in subitem:\n",
    "                listCpt.append(item)\n",
    "        else:\n",
    "            listCpt.append(subitem)\n",
    "    return listCpt\n",
    "\n",
    "def plotDefinitions(net: pysmile.Network):\n",
    "    nodeHandles = net.get_all_nodes()\n",
    "    nodeIds = net.get_all_node_ids()\n",
    "    for nodeHandle, nodeId in zip(nodeHandles, nodeIds):\n",
    "        nodeDef = net.get_node_definition(nodeHandle)\n",
    "        nodeOutcomes = net.get_outcome_ids(nodeHandle)\n",
    "        print(f\"Node ID: {nodeId}, Definition: {nodeDef}, Outcomes: {nodeOutcomes}\")\n",
    "\n",
    "def learnParams(net: pysmile.Network, fileName: str, randomize: bool = False, uniformize: bool = False, relevance: bool = True):\n",
    "    ds = DataSet()\n",
    "    ds.read_file(fileName)\n",
    "    matching = ds.match_network(net)\n",
    "    em = EM()\n",
    "    em.set_seed(98)\n",
    "    em.set_relevance(relevance)\n",
    "    em.set_randomize_parameters(randomize)\n",
    "    em.set_uniformize_parameters(uniformize)\n",
    "    em.learn(ds, net, matching)\n",
    "\n",
    "def findNodeHandle(net: pysmile.Network, nodeId: str):\n",
    "    nodeIds = net.get_all_node_ids()\n",
    "    nodeHandles = net.get_all_nodes()\n",
    "    for nodeHandle, id in zip(nodeHandles, nodeIds):\n",
    "        if id == nodeId:\n",
    "            return nodeHandle\n",
    "    return None\n",
    "\n",
    "def fixDiscrParams(net: pysmile.Network, tacticsDict: dict, analyticsDict: dict, orNodes: list, andNodes: list):\n",
    "    for nodeId, accuracy in analyticsDict.items():\n",
    "        nodeHandle = findNodeHandle(net, nodeId)\n",
    "        if nodeHandle is not None:\n",
    "            net.set_node_definition(nodeHandle, [accuracy, 1-accuracy, 1-accuracy, accuracy])\n",
    "            print(\"Set parameters for analytic node:\", nodeId)\n",
    "        else:\n",
    "            print(f\"Node {nodeId} not found in the network.\")\n",
    "\n",
    "    for nodeId in itertools.chain(orNodes, andNodes):\n",
    "        nodeHandle = findNodeHandle(net, nodeId)\n",
    "        if nodeHandle is not None:\n",
    "            parents = net.get_parents(nodeHandle)\n",
    "            # Compute all possible combinations of parent outcomes\n",
    "            numParents = len(parents)\n",
    "            if numParents > 0:\n",
    "                parentOutcomes = [net.get_outcome_ids(parent) for parent in parents]\n",
    "                combinations = [list(comb) for comb in itertools.product(*parentOutcomes)]\n",
    "                # Set the definition for the OR node based on parent outcomes\n",
    "                if nodeId in orNodes:\n",
    "                    nodeDefinition = [[0,1] if outcomes[1] in comb else [1,0] for comb in combinations]\n",
    "                else:\n",
    "                    nodeDefinition = [[0,1] if outcomes[0] not in comb else [1,0] for comb in combinations]\n",
    "                nodeDefinition = [item for sublist in nodeDefinition for item in sublist]\n",
    "                net.set_node_definition(nodeHandle, nodeDefinition)\n",
    "        else:\n",
    "            print(f\"Node {nodeId} not found in the network.\")"
   ]
  },
  {
   "cell_type": "code",
   "execution_count": 10,
   "id": "ba94e3b4",
   "metadata": {},
   "outputs": [],
   "source": [
    "learnParams(net, tracesFileName, randomize=False, uniformize=True, relevance=False)"
   ]
  },
  {
   "cell_type": "code",
   "execution_count": 11,
   "id": "239e4603",
   "metadata": {},
   "outputs": [],
   "source": [
    "fixDiscrParams(net, None, analyticsDict, orNodes, andNodes)"
   ]
  },
  {
   "cell_type": "code",
   "execution_count": 12,
   "id": "2cc38cb2",
   "metadata": {},
   "outputs": [],
   "source": [
    "net.write_file(outFileName)"
   ]
  },
  {
   "cell_type": "code",
   "execution_count": 13,
   "id": "7070d0e1",
   "metadata": {},
   "outputs": [
    {
     "name": "stdout",
     "output_type": "stream",
     "text": [
      "Node ID: DMZ_scanIP, Definition: [0.995049504950495, 0.0049504950495049506], Outcomes: ['N', 'C']\n",
      "Node ID: workStation_compromise, Definition: [0.002567282878116235, 0.9974327171218837], Outcomes: ['N', 'C']\n",
      "Node ID: historianServer_addSSHkey, Definition: [0.994033893993792, 0.005966106006207975], Outcomes: ['N', 'C']\n",
      "Node ID: historianServer_remoteShellAND, Definition: [1.0, 0.0, 1.0, 0.0, 1.0, 0.0, 0.0, 1.0], Outcomes: ['N', 'C']\n",
      "Node ID: historian_scanVuln, Definition: [0.9948976735448269, 0.00510232645517306], Outcomes: ['N', 'C']\n",
      "Node ID: historian_remoteSrvc, Definition: [0.9949344172481706, 0.005065582751829554], Outcomes: ['N', 'C']\n",
      "Node ID: historianServer_shell, Definition: [0.995044299765697, 0.004955700234303086], Outcomes: ['N', 'C']\n",
      "Node ID: historianServer_remoteShell, Definition: [0.6762922923800851, 0.32370770761991485], Outcomes: ['N', 'C']\n",
      "Node ID: historianServer_NodeOR1, Definition: [1.0, 0.0, 0.0, 1.0, 0.0, 1.0, 0.0, 1.0], Outcomes: ['N', 'C']\n",
      "Node ID: MMSclient1_modAuthProc, Definition: [0.8484382634855878, 0.1515617365144121], Outcomes: ['N', 'C']\n",
      "Node ID: MMSclient1_unsecCred, Definition: [0.8549797447100052, 0.14502025528999488], Outcomes: ['N', 'C']\n",
      "Node ID: MMSclient1_AND52, Definition: [1.0, 0.0, 1.0, 0.0, 1.0, 0.0, 0.0, 1.0], Outcomes: ['N', 'C']\n",
      "Node ID: tomcatWebServer_bruteForce, Definition: [0.9924620984917728, 0.007537901508227182], Outcomes: ['N', 'C']\n",
      "Node ID: virtualEng_escapeHost, Definition: [0.9948829110292632, 0.005117088970736885], Outcomes: ['N', 'C']\n",
      "Node ID: stationComputer_shell, Definition: [0.9950246400755605, 0.0049753599244396025], Outcomes: ['N', 'C']\n",
      "Node ID: MMSclient1_credAcc, Definition: [0.9950493625292186, 0.004950637470781356], Outcomes: ['N', 'C']\n",
      "Node ID: MMSserver1_AITM, Definition: [0.9950495049463778, 0.004950495053622301], Outcomes: ['N', 'C']\n",
      "Node ID: MMSserver1_spoofRepMsg, Definition: [0.5003321034426453, 0.4996678965573546], Outcomes: ['N', 'C']\n",
      "Node ID: MMSserver1_unauthCmdMsg, Definition: [0.5003321034426453, 0.4996678965573546], Outcomes: ['N', 'C']\n",
      "Node ID: MMSserver1_NodeAND23, Definition: [1.0, 0.0, 1.0, 0.0, 1.0, 0.0, 0.0, 1.0], Outcomes: ['N', 'C']\n",
      "Node ID: IED1_DERfailure, Definition: [0.5, 0.5], Outcomes: ['N', 'C']\n"
     ]
    }
   ],
   "source": [
    "plotDefinitions(net)"
   ]
  }
 ],
 "metadata": {
  "kernelspec": {
   "display_name": ".venv",
   "language": "python",
   "name": "python3"
  },
  "language_info": {
   "codemirror_mode": {
    "name": "ipython",
    "version": 3
   },
   "file_extension": ".py",
   "mimetype": "text/x-python",
   "name": "python",
   "nbconvert_exporter": "python",
   "pygments_lexer": "ipython3",
   "version": "3.10.12"
  }
 },
 "nbformat": 4,
 "nbformat_minor": 5
}
